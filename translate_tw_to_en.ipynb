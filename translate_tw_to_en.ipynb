{
  "nbformat": 4,
  "nbformat_minor": 0,
  "metadata": {
    "colab": {
      "provenance": [],
      "mount_file_id": "1RetUIS76PuGXszYiMzSANnk4A73THHNt",
      "authorship_tag": "ABX9TyNUWi1dZkiKR6UMNwcaRews",
      "include_colab_link": true
    },
    "kernelspec": {
      "name": "python3",
      "display_name": "Python 3"
    },
    "language_info": {
      "name": "python"
    }
  },
  "cells": [
    {
      "cell_type": "markdown",
      "metadata": {
        "id": "view-in-github",
        "colab_type": "text"
      },
      "source": [
        "<a href=\"https://colab.research.google.com/github/clangreformers/clangreformers-test.github.io/blob/master/translate_tw_to_en.ipynb\" target=\"_parent\"><img src=\"https://colab.research.google.com/assets/colab-badge.svg\" alt=\"Open In Colab\"/></a>"
      ]
    },
    {
      "cell_type": "code",
      "execution_count": null,
      "metadata": {
        "id": "HZkTudZFJgV9"
      },
      "outputs": [],
      "source": [
        "%pip install openai\n",
        "%pip install tiktoken"
      ]
    },
    {
      "cell_type": "code",
      "source": [
        "from openai import OpenAI\n",
        "import os\n",
        "import tiktoken\n",
        "from google.colab import userdata\n",
        "\n",
        "OPENAI_API_KEY = userdata.get('openai_api_key')\n",
        "# Set the API key as an environment variable\n",
        "os.environ[\"OPENAI_API_KEY\"] = OPENAI_API_KEY\n",
        "\n",
        "# Directory containing files to translate\n",
        "input_directory = \"drive/MyDrive/clangreformers/tw\"\n",
        "output_directory = \"drive/MyDrive/clangreformers/en\"\n",
        "\n",
        "# Ensure the output directory exists\n",
        "os.makedirs(output_directory, exist_ok=True)\n",
        "\n",
        "# Function to count tokens\n",
        "def count_tokens(text, model=\"gpt-4o-mini\"):\n",
        "    \"\"\"Calculate the number of tokens in a given text for the specified model.\"\"\"\n",
        "    encoding = tiktoken.get_encoding(\"gpt2\")\n",
        "    return len(encoding.encode(text))\n",
        "\n",
        "# Function to split text into manageable chunks\n",
        "def split_text(text, max_tokens, model=\"gpt-4o-mini\"):\n",
        "    \"\"\"Split text into chunks that fit within the token limit.\"\"\"\n",
        "    encoding = tiktoken.get_encoding(\"gpt2\")\n",
        "    tokens = encoding.encode(text)\n",
        "    chunks = []\n",
        "    for i in range(0, len(tokens), max_tokens):\n",
        "        chunk = tokens[i:i + max_tokens]\n",
        "        chunks.append(encoding.decode(chunk))\n",
        "    return chunks\n",
        "\n",
        "# Function to translate text using OpenAI o1mini API\n",
        "def translate_text(text, source_lang=\"zh-TW\", target_lang=\"en\", model=\"gpt-4o-mini\"):\n",
        "    \"\"\"Translate text using OpenAI o1mini API.\"\"\"\n",
        "    prompt = f\"Translate the following text from {source_lang} to {target_lang}:\\n\\n{text}\"\n",
        "    try:\n",
        "        response = client.chat.completions.create(\n",
        "            model=model,\n",
        "            messages=[\n",
        "                {\"role\": \"system\", \"content\": \"You are a helpful translation assistant.\"},\n",
        "                {\"role\": \"user\", \"content\": prompt}\n",
        "            ]\n",
        "        )\n",
        "        print(response)\n",
        "        return response.choices[0].message.content.strip()\n",
        "    except Exception as e:\n",
        "        print(f\"Error during translation: {e}\")\n",
        "        return None\n",
        "\n",
        "# Token limit for the model\n",
        "MODEL = \"gpt-4o-mini\"\n",
        "MAX_TOKENS = 2000  # Adjust based on model's max context size\n",
        "SAFE_LIMIT = MAX_TOKENS - 500  # Leave space for prompt and response\n",
        "\n",
        "client = OpenAI()\n",
        "\n",
        "# Iterate through all files in the input directory\n",
        "for filename in os.listdir(input_directory):\n",
        "    if filename.endswith(\".txt\"):  # Process only .txt files\n",
        "        input_file_path = os.path.join(input_directory, filename)\n",
        "        output_file_path = os.path.join(output_directory, filename)\n",
        "\n",
        "        print(input_file_path)\n",
        "\n",
        "        with open(input_file_path, \"r\", encoding=\"utf-8\") as input_file:\n",
        "            traditional_text = input_file.read()\n",
        "\n",
        "        # Split text into manageable chunks if necessary\n",
        "        if count_tokens(traditional_text, model=MODEL) > SAFE_LIMIT:\n",
        "            text_chunks = split_text(traditional_text, SAFE_LIMIT, model=MODEL)\n",
        "        else:\n",
        "            text_chunks = [traditional_text]\n",
        "\n",
        "        translated_text = \"\"\n",
        "\n",
        "        # Translate each chunk\n",
        "        for i, chunk in enumerate(text_chunks):\n",
        "            print(f\"Translating chunk {i + 1}/{len(text_chunks)} of {filename}...\")\n",
        "            result = translate_text(chunk, source_lang=\"Traditional Chinese\", target_lang=\"English\", model=MODEL)\n",
        "            if result:\n",
        "                translated_text += result + \"\\n\"\n",
        "            else:\n",
        "                print(f\"Failed to translate chunk {i + 1} of {filename}\")\n",
        "\n",
        "        # Save the translated text to the output file\n",
        "        with open(output_file_path, \"w\", encoding=\"utf-8\") as output_file:\n",
        "            output_file.write(translated_text)\n",
        "\n",
        "        print(f\"Translated and saved: {filename}\")\n",
        "\n",
        "print(\"Translation completed.\")\n"
      ],
      "metadata": {
        "colab": {
          "base_uri": "https://localhost:8080/"
        },
        "id": "YpP68Lb6JzO9",
        "outputId": "ef03ffbd-f5aa-4c97-8836-f3914619b349"
      },
      "execution_count": 16,
      "outputs": [
        {
          "output_type": "stream",
          "name": "stdout",
          "text": [
            "drive/MyDrive/clangreformers/tw/2024-12-21-profWangLostVoice-tw.txt\n",
            "Translating chunk 1/7 of 2024-12-21-profWangLostVoice-tw.txt...\n",
            "ChatCompletion(id='chatcmpl-Amx1r0DHcSSRiJBb7dzjwFMWmBBQi', choices=[Choice(finish_reason='stop', index=0, logprobs=None, message=ChatCompletionMessage(content='---\\n\\nlayout: post  \\ntitle: \"Wah Wah Wah for Three Days, Can\\'t Take It Anymore - Mr. Wang Shou-Kang\"  \\ndate: 2024-12-21 14:00:00 -0000  \\ncategories: jekyll update  \\nref: prof-wang-lost-voice  \\nlang: Traditional Chinese  \\n---\\n\\nAuthor: Wang Zhengfang\\n\\nExcerpt from \"A Man with Ambition\"\\n\\n![image](/assets/imgs/peterwang_trilogy3.jpg \"A Man with Ambition\"){ : width=\"200\" }\\n\\nTen, Wah Wah Wah for Three Days, Can\\'t Take It Anymore!\\n\\nI slept on the floor next to my father\\'s hospital bed, unable to sleep all night. The ordinary ward housed sixteen patients, and among them was a liver disease patient whose painkillers were ineffective; he screamed loudly from the pain, straining his throat. My mother requested multiple times to transfer to another ward, but the hospital replied that it was fully occupied and to wait a bit longer.\\n\\nThat morning, Gu Zhenggang and Zhang Baoshu visited my father in the ward, frequently inquiring about his condition. After his stroke, my father had difficulty speaking but still wanted to speak up. He said:\\n\\n\"---I--- Wah Wah Wah for three days, can\\'t take it anymore---.\"\\n\\nThis meant that he had been in a coma for three days after his stroke and was now unable to speak. The two officials instructed us to ensure he was well cared for, and then hurriedly left. Zhang Baoshu was a fellow from Hebei and was then the Secretary-General of the Kuomintang; my father had previously worked with Gu Zhenggang at the Kuomintang headquarters in Beiping. My father had long since left the Kuomintang and had been dedicated to language education for decades. After Gu and Zhang visited, the hospital transferred my father to a two-person room.\\n\\nThis was my father\\'s second serious stroke. A year ago, he, alongside Professor Zhao Youpei, had traveled throughout Taiwan to provide guidance on Mandarin education in various primary and secondary schools. His work was exceedingly busy; visiting and giving lectures, reviewing student compositions, giving special talks, and holding seminars meant every day\\'s schedule was packed, leaving no time for rest. On that day, he delivered two lectures in a row, followed by a seminar, and teachers came to consult him in the evening, resulting in a sleepless night, after which he could not speak in the morning. The emergency doctor hurriedly gave him two injections, and his language ability gradually began to recover.\\n\\nAfter returning to Taipei for some rest, my father\\'s speaking ability returned to normal. He was full of energy and never had a moment of leisure, actively participating in Mandarin education guidance work in the northern region. That morning, he gave a lecture at Taipei Normal University and upon returning home for lunch, he experienced difficulty swallowing and unclear speech. After a nap, there was no improvement. In the evening, he invited a family doctor from the Mandarin Daily to examine him, and the doctor...', refusal=None, role='assistant', audio=None, function_call=None, tool_calls=None))], created=1736230015, model='gpt-4o-mini-2024-07-18', object='chat.completion', service_tier=None, system_fingerprint='fp_0aa8d3e20b', usage=CompletionUsage(completion_tokens=625, prompt_tokens=743, total_tokens=1368, completion_tokens_details=CompletionTokensDetails(accepted_prediction_tokens=0, audio_tokens=0, reasoning_tokens=0, rejected_prediction_tokens=0), prompt_tokens_details=PromptTokensDetails(audio_tokens=0, cached_tokens=0)))\n",
            "Translating chunk 2/7 of 2024-12-21-profWangLostVoice-tw.txt...\n",
            "ChatCompletion(id='chatcmpl-Amx23cmwpSHPCDA6zgzmKp7zq5GWD', choices=[Choice(finish_reason='stop', index=0, logprobs=None, message=ChatCompletionMessage(content='My father received an injection and was told he had high blood pressure, so he should get a good night\\'s sleep before anything else. When I woke up in the early morning, I found him in bed, gesturing and shouting, with his left side noticeably unable to move. \\n\\nAt that time, Taiwan did not have 119 ambulances, and it took great effort to get him emergency medical attention. He was hospitalized for three weeks and, once his condition stabilized, returned home to recover. He had to insist on exercising every day, hoping that with time he could regain a certain level of health. Three months later, my father was mostly able to take care of himself, but he could never converse or laugh as easily as he used to.\\n\\nMy mother often talked to me about my father\\'s past. She sighed:\\n\"It was all because of his speeches; your dad just loved to give lectures. The energy, excitement, and freedom he felt on stage, combined with the enthusiastic reactions from the audience, really made it hard for him to let go. He lost track of time and paid no attention to his health—nobody could stop him.\"\\n\\nMy father\\'s speeches truly made a name for him at the time. When he gave a formal talk, his voice was loud (this was before amplified sound equipment), with a rhythmic rise and fall, clear pronunciation, and witty moments. He could reference things broadly and delve into complex issues in an understandable way, capturing the audience\\'s attention. Sometimes they would be so entertained they couldn\\'t help but laugh, and when he reached the height of his passion, the entire audience would erupt in applause; many were enchanted by Professor Wang\\'s speeches. My father traveled south to guide language education, and Principal An of Kaohsiung Haiching Middle School followed their schedule throughout Kaohsiung County to hear Professor Wang speak.\\n\\nMy father\\'s old friend, Uncle Wang Yuchuan, said: \"If Mr. Wang Faqing speaks about something, people would never get tired of hearing it even after ten repetitions.\"\\n\\nProfessor Liang Rongruo, a classmate of my father from Beishi University, later co-founded the Mandarin Daily with him in Taiwan. In one of his articles, Uncle Liang wrote:\\n\\n\"Healthy, open-hearted, sincere, and fond of helping young friends in need. He taught many students, and at any time—early morning, noon, late at night, or on Sundays—he was always open to visits. Discussing academic matters, careers, family life, or love issues, he listened attentively and responded seriously. <It’s easy to find a subject teacher, but hard to find a true teacher>—he was a rare mentor.\"\\n\\nOver a dozen graduates from the Mandarin program at Beijing Normal University followed Teacher Wang to Taiwan to promote Mandarin; my father established a Mandarin program at Taiwan Provincial Normal University.', refusal=None, role='assistant', audio=None, function_call=None, tool_calls=None))], created=1736230027, model='gpt-4o-mini-2024-07-18', object='chat.completion', service_tier=None, system_fingerprint='fp_0aa8d3e20b', usage=CompletionUsage(completion_tokens=577, prompt_tokens=684, total_tokens=1261, completion_tokens_details=CompletionTokensDetails(accepted_prediction_tokens=0, audio_tokens=0, reasoning_tokens=0, rejected_prediction_tokens=0), prompt_tokens_details=PromptTokensDetails(audio_tokens=0, cached_tokens=0)))\n",
            "Translating chunk 3/7 of 2024-12-21-profWangLostVoice-tw.txt...\n",
            "ChatCompletion(id='chatcmpl-Amx2EentVGAICO7zclRqemDvDZl6f', choices=[Choice(finish_reason='stop', index=0, logprobs=None, message=ChatCompletionMessage(content='Graduates are distributed to various secondary schools to promote language education. The father’s student, Professor Fang Zushen, recalls:\\n\\n\"What impressed me most about Mr. Wang Shou-kang\\'s class was his speeches. He stood on stage, not very tall but very sturdy, with a broad face and a full chin. His hair was slightly balding on top, while thick on the sides. He wore a pair of round, old-fashioned eyeglasses with red and black trim perched on the bridge of his nose, and behind the lenses shone a powerful gaze, one that combined determination with a touch of kindness. One hand rested at his back near his waist while the other gestured appropriately in front of him as he spoke with strength and a loud voice. In a gathering of hundreds, listening to his long-winded speech filled with profound insights and clever metaphors, laughter would erupt frequently, followed by waves of applause. I can say that after hearing Mr. Wang\\'s speech, I have never heard a more outstanding speech than his.\"\\n\\nMr. Zhong Lusheng, who graduated from the National Normal University’s Mandarin specialization program, wrote an article titled \"Full of Energy: My Impression of Teacher Wang Faqing\":\\n\"Nine years ago, Teacher Wang Shou-kang gave us our first lesson, clearly stating the two major goals of the Mandarin movement: \\'Consistency in Speech and Writing, and Unification of Mandarin.\\' He recounted the past successes and failures of the Mandarin movement—sometimes he\\'d jump up in joy, sometimes he’d be downcast, at times he’d grit his teeth, and at others, he’d seem pained and sorrowful. I saw the light shining on his forehead, his trembling hands dancing in the air, his short and stout body swaying vigorously, while his mouth kept flowing with words. At that moment, a surge of heat filled my chest; I clenched my fists and gritted my teeth, pulsating with his emotions. I looked around at my classmates, each one focused and listening intently, their spirits high. We deeply admired his passion for language education and his outstanding talent for oratory!\"\\n\\nZhong Lusheng said: \"Whenever I felt discouraged, I’d invite a few classmates to find Teacher Wang to cheer us up. After his exhortation, we indeed felt reinvigorated, and all our setbacks vanished! Each of his blood vessels was filled with heat, every muscle contained power. --- When Teacher Wang fell ill in bed, I went to see him. I told him that our classmates wanted to establish a grassroots organization to promote Mandarin. He exclaimed \\'Yes, Yes!\\' with both hands gesticulating excitedly, and finally, he raised his thumb and managed to say two words: \\'Great!\\' I laughed and said, \\'You are just like American students speaking Mandarin.\\'\"\\n\\nAfter resting at home for three months…', refusal=None, role='assistant', audio=None, function_call=None, tool_calls=None))], created=1736230038, model='gpt-4o-mini-2024-07-18', object='chat.completion', service_tier=None, system_fingerprint='fp_d02d531b47', usage=CompletionUsage(completion_tokens=585, prompt_tokens=727, total_tokens=1312, completion_tokens_details=CompletionTokensDetails(accepted_prediction_tokens=0, audio_tokens=0, reasoning_tokens=0, rejected_prediction_tokens=0), prompt_tokens_details=PromptTokensDetails(audio_tokens=0, cached_tokens=0)))\n",
            "Translating chunk 4/7 of 2024-12-21-profWangLostVoice-tw.txt...\n",
            "ChatCompletion(id='chatcmpl-Amx2OXhxAqIgtX0HE7iQkNa39L35Q', choices=[Choice(finish_reason='stop', index=0, logprobs=None, message=ChatCompletionMessage(content='The doctor believes that my father\\'s condition is stable, but no one can predict whether he will be able to speak again in the future. We must continue with the training!\\n\\nI really feel old, often thinking about things from many years ago: my father suffered two severe strokes; the first time he was rescued, but a little over a year later he experienced another stroke, this one more serious. The medical facilities and knowledge at that time were lacking, and they missed the golden window for treatment. This rare linguist, once the most charming, energetic, passionate, and vivid speaker in Taiwan, lost his ability to speak from then on.\\n\\nTrying to learn to speak again may have been the most painful ordeal of my father’s life. I used to teach him to talk every afternoon, like teaching a child, saying one word at a time and asking him to repeat after me. His pronunciation and tone were accurate; his articulation was perfect, but he could not remember; what he learned yesterday was forgotten today, and progress was slow and not significant. He could still read the newspaper aloud, pronouncing each word correctly, but he did not understand the meanings in the text. Young and impatient, after two months, I gradually relaxed my efforts in this task of teaching my father to speak. After that, he could only use simple words to express his needs, spending most of his time sitting in a rattan chair, gazing at the flowers and plants in the yard, silent.\\n\\nAunt Xia (Lin Haiyin) was our close neighbor, and she once wrote this:\\n\"Mr. Fa Qing fell ill from a stroke, and like ordinary stroke patients, one side of his body was paralyzed and he could not speak. This was indeed a painful predicament for a language professor and speaker like Mr. Fa Qing. When he first stayed at National Taiwan University Hospital, after returning home, he focused on recuperation, taking walks every afternoon, accompanied by a male worker. At that time, Section 3 of Chongqing South Road had not yet been reconstructed, the streets were clean, and there were not many vehicles. Every day, we would see him dressed in a long robe, leaning to one side, limping, struggling to learn how to walk. \\n\\nWhen he reached the entrance of my house and saw the door open, he had to bend in to check on the children. When the children saw him, they would affectionately call out, \\'Uncle Wang! Come sit!\\' because my little daughter played teacher with the neighbor girls every day! In the yard, there was a chair set up with a small blackboard, with a few little girls seated underneath. My daughter Awei played the little teacher: \\'Three, ㄙㄢ three, first tone three, nine, ...\"', refusal=None, role='assistant', audio=None, function_call=None, tool_calls=None))], created=1736230048, model='gpt-4o-mini-2024-07-18', object='chat.completion', service_tier=None, system_fingerprint='fp_d02d531b47', usage=CompletionUsage(completion_tokens=564, prompt_tokens=685, total_tokens=1249, completion_tokens_details=CompletionTokensDetails(accepted_prediction_tokens=0, audio_tokens=0, reasoning_tokens=0, rejected_prediction_tokens=0), prompt_tokens_details=PromptTokensDetails(audio_tokens=0, cached_tokens=0)))\n",
            "Translating chunk 5/7 of 2024-12-21-profWangLostVoice-tw.txt...\n",
            "ChatCompletion(id='chatcmpl-Amx2a5Tn8hCxHpMVgB7yeP3RLlrDc', choices=[Choice(finish_reason='stop', index=0, logprobs=None, message=ChatCompletionMessage(content='\"Nine, three tones of nine... Ah! Uncle Wang, come, read, nine, nine, three tones of nine!\" Mr. Fa Qing moved his lips slightly, trying hard to open his mouth, but instead of saying nine, he ended up with \"Ah!\" It was pitiful for Uncle Wang, who had to learn to speak every day with the little teacher.\\n\\nIn the short term, for two or three years, or even longer, father couldn’t work and might never again passionately and freely discuss the great cause of \"national language unification and consistent writing.\" \\n\\nIn Taiwan in 1959, there was no retirement system, and the salaries of public teachers were meager. Along with the monthly rations like oil, rice, and coal, it was barely enough to maintain a basic standard of living. It was almost a common phenomenon not to have food for the next day. My mother’s health was poor; she had resigned from her teaching position for several years. My brother had just graduated from university and was serving in the military in the south while I was in my junior year. The only one who could earn money to support the family, my dad, was bedridden. What would we do moving forward?\\n\\nI stayed at home with my dad and idled beside him, teaching him a few simple daily phrases. He would learn by repeating after me, each word pronounced very clearly, but he would forget soon after learning. Sometimes, while gazing at the flowers and plants in the yard, he would suddenly exclaim to me:\\n\\n\"Hey, hey, where are we! - dying of hunger.\" Then he would throw his hands up.\\n\\n\"What are you talking about? How could that be? Both your sons are grown up now.\"\\n\\nWhat use are sons? Just young boys, consuming my life. Back in those days in Taiwan, job opportunities for university graduates in any field were nearly zero. My brother, with excellent grades in the Chemistry Department at National Taiwan University, received a full scholarship from the University of California, Berkeley, preparing to pursue his Ph.D. after finishing his military service. I was strong and healthy; anyway, studying Electrical Engineering at National Taiwan University didn’t seem promising; I could just take on a physical job to earn some money!\\n\\nMy mother remained calm, repeatedly telling me to focus on studying hard and not to worry about anything else, as she would handle it all. My brother and I would finish our studies in order, serve in the military, study in the United States, obtain our degrees one after the other, find jobs, and regularly send money to our elderly parents in Taiwan to ensure their livelihood was secure.\\n\\nBut during the years we studied in the United States and before we started working, what arrangements did my mother make to get through the tough times? Many years later, after my father passed away, …', refusal=None, role='assistant', audio=None, function_call=None, tool_calls=None))], created=1736230060, model='gpt-4o-mini-2024-07-18', object='chat.completion', service_tier=None, system_fingerprint='fp_0aa8d3e20b', usage=CompletionUsage(completion_tokens=579, prompt_tokens=694, total_tokens=1273, completion_tokens_details=CompletionTokensDetails(accepted_prediction_tokens=0, audio_tokens=0, reasoning_tokens=0, rejected_prediction_tokens=0), prompt_tokens_details=PromptTokensDetails(audio_tokens=0, cached_tokens=0)))\n",
            "Translating chunk 6/7 of 2024-12-21-profWangLostVoice-tw.txt...\n",
            "ChatCompletion(id='chatcmpl-Amx2lZEI6eoZIPHIRyWIja5UirRtC', choices=[Choice(finish_reason='stop', index=0, logprobs=None, message=ChatCompletionMessage(content='Here is the translation of the text from Traditional Chinese to English:\\n\\n\"I came to the United States for a short stay, and deep into the night when it was quiet, the old lady loved to drink a couple of glasses of her special homemade liquor: ginseng and various Chinese medicinal herbs soaked in aged sorghum, forming a brown, jelly-like substance. She would scoop out a little of it and mix it with pure sorghum liquor. After stirring it evenly, the taste was strong. After a few sips, she began reminiscing:\\n\\n\\'Back then, your father took special care of his students, remember? Students from the Mandarin specialization often came to our home to talk, and they would sit for several hours.\\'\\n\\n\\'How could I forget? What I remember most is the incident of Brother Fang\\'s heartbreak. One rainy day, he ran to our home completely drenched, looking lost and said to Dad: \"Teacher Wang, I just hit her!\" Dad exclaimed: \"What happened? You mustn\\'t hit people!\" And then Brother Fang detailed his love story failures, which lasted for several hours!\\'\\n\\n\\'Yes! Later, Brother Fang found a suitable partner, settled down, and now he is a well-known professor! After your father fell seriously ill, he was greatly helped by these good students of his, alas!\\'\\n\\nAt that time, there were no retirement regulations for illness at National Taiwan Normal University, and the Chinese Daily News was a privately operated foundation, struggling with its management. Your father\\'s students: Zhang Xiaoyu, Fang Zushen, Wang Tianchang, Huang Zengyu, and Zhong Lusheng had all graduated for several years and qualified as university lecturers. They reached an agreement with the Normal University: while Professor Wang was ill and needed to rest for a period, we few lecturers would voluntarily cover the basic language courses he taught at the university. Mr. Wang Shoukang would still retain his professor position at the university. I still remember that Zhang Xiaoyu would regularly visit our home every month to see the teacher and my mother, respectfully handing her an envelope.\\n\\n\\'But it wasn\\'t until 1964 that I found that IBM job and started sending money home!\\'\\n\\n\\'Exactly!\\' my mother said: \\'Xiaoyu and the others covered classes for your father for about five years.\\'\\n\\nEpilogue:\\n\\nThe years from 1959 to 1964 were the hardest for our family. Brother Xiaoyu quietly arranged for various brothers to take turns covering classes at the Normal University for my father, sustaining our family\\'s livelihood. My mother believed that the two of us were too young to bear such great pressure, so she kept it a secret and sent us abroad early, allowing us to strive without worries and make a name for ourselves. Fortunately, the two of us didn\\'t let her down.\"', refusal=None, role='assistant', audio=None, function_call=None, tool_calls=None))], created=1736230071, model='gpt-4o-mini-2024-07-18', object='chat.completion', service_tier=None, system_fingerprint='fp_d02d531b47', usage=CompletionUsage(completion_tokens=570, prompt_tokens=700, total_tokens=1270, completion_tokens_details=CompletionTokensDetails(accepted_prediction_tokens=0, audio_tokens=0, reasoning_tokens=0, rejected_prediction_tokens=0), prompt_tokens_details=PromptTokensDetails(audio_tokens=0, cached_tokens=0)))\n",
            "Translating chunk 7/7 of 2024-12-21-profWangLostVoice-tw.txt...\n",
            "ChatCompletion(id='chatcmpl-Amx2xC2r3xtdvY7la7Nnao2PXd5Yb', choices=[Choice(finish_reason='stop', index=0, logprobs=None, message=ChatCompletionMessage(content='A person\\'s wishes have taken root on the other side of the Pacific Ocean.\\n\\nMore than sixty years have hurried by, and at a memorial service in Taipei, I met Professor Zhang Xiaoyu; Mr. Zhang is over ninety years old, sharp-minded and clear in thought. When he saw me, he said:\\n\\n\"You still look like you did when you were a child.\"\\n\\nI respectfully thanked him: if it weren\\'t for several senior brothers who volunteered to teach in place of my father for five years, our family really wouldn\\'t know what would have happened! Senior Brother Xiaoyu laughed with his head held high, and he said:\\n\\n\"That\\'s what we should do! Your father is our mentor; he took such good care of everyone back in the day. Let me tell you something: Teacher Wang arranged for me to go to the Kaohsiung City Education Bureau to promote language education. The mayor didn’t value language education at all and sent me to a small elementary school to teach. When Teacher Wang found out, he had me transferred back to Taipei within a few days. He said that language education in Taiwan couldn\\'t be delayed, and there were many jobs waiting for you here...\"\\n\\nSenior Brother Xiaoyu was very enthusiastic, talking eloquently about the past while I quietly sat beside him listening.\\n\\nI truly feel old; I recall that winter afternoon: my parents were sitting on the porch enjoying the sun, with the sunlight shining on my mother’s gray hair, which was somewhat thin on top. My father gazed at his old companion for a long time, gestured for me to lean in closer, and as I lowered my head to his ear, he spoke loudly:\\n\\n\"Your mom! She\\'s balding.\"\\n\\nEach word was pronounced clearly and forcefully, not like someone with a language barrier. The old lady was quite unhappy after hearing this and retorted:\\n\\n\"You’re the bald one!\"\\n\\nEvery little thing about my father keeps swirling in my mind, and I always want to write about him, but trying too hard often leads to failure. The children’s song he taught us goes like this:\\n\\n\"Who will play with me, firecracker, firecracker flower sells melons, the melon\\'s bitter, selling tofu, the tofu\\'s rotten, setting up eggs, eggs and eggshells, inside sits an older brother, the brother comes out to buy vegetables, inside sits a grandmother, the grandmother comes out to offer incense, inside sits a young lady, the young lady comes out to light the lamp, burns the nose and eyes.\"\\n\\nAfter singing, I unconsciously started to rub my hands on my nose and eyes.', refusal=None, role='assistant', audio=None, function_call=None, tool_calls=None))], created=1736230083, model='gpt-4o-mini-2024-07-18', object='chat.completion', service_tier=None, system_fingerprint='fp_0aa8d3e20b', usage=CompletionUsage(completion_tokens=525, prompt_tokens=649, total_tokens=1174, completion_tokens_details=CompletionTokensDetails(accepted_prediction_tokens=0, audio_tokens=0, reasoning_tokens=0, rejected_prediction_tokens=0), prompt_tokens_details=PromptTokensDetails(audio_tokens=0, cached_tokens=0)))\n",
            "Translated and saved: 2024-12-21-profWangLostVoice-tw.txt\n",
            "Translation completed.\n"
          ]
        }
      ]
    },
    {
      "cell_type": "markdown",
      "source": [
        "# New Section"
      ],
      "metadata": {
        "id": "bhyKEQ-sQjgG"
      }
    }
  ]
}